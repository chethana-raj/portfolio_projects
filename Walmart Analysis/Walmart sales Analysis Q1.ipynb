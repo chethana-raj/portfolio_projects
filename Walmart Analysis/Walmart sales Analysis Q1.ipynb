{
 "cells": [
  {
   "cell_type": "markdown",
   "id": "40eae0a6-07c5-4816-b54e-1eb08f1ca392",
   "metadata": {},
   "source": [
    "Walmart sales Analysis Q1"
   ]
  },
  {
   "cell_type": "code",
   "execution_count": 96,
   "id": "78e82355-9424-465b-bd2f-fae14c704b42",
   "metadata": {},
   "outputs": [],
   "source": [
    "import pandas as pd\n",
    "import numpy as np\n",
    "import matplotlib.pyplot as plt\n",
    "import seaborn as sns"
   ]
  },
  {
   "cell_type": "code",
   "execution_count": 5,
   "id": "b5cc79cc-2419-4093-8894-6ecb1d0fac98",
   "metadata": {},
   "outputs": [],
   "source": [
    "df = pd.read_excel(r\"C:\\Users\\cheth\\Downloads\\Walmart_Sales_CB1799BACC_77EAC63B5D.xlsx\")"
   ]
  },
  {
   "cell_type": "code",
   "execution_count": 9,
   "id": "df359412-9469-447e-9a10-f460cb1f35ba",
   "metadata": {},
   "outputs": [
    {
     "data": {
      "text/html": [
       "<div>\n",
       "<style scoped>\n",
       "    .dataframe tbody tr th:only-of-type {\n",
       "        vertical-align: middle;\n",
       "    }\n",
       "\n",
       "    .dataframe tbody tr th {\n",
       "        vertical-align: top;\n",
       "    }\n",
       "\n",
       "    .dataframe thead th {\n",
       "        text-align: right;\n",
       "    }\n",
       "</style>\n",
       "<table border=\"1\" class=\"dataframe\">\n",
       "  <thead>\n",
       "    <tr style=\"text-align: right;\">\n",
       "      <th></th>\n",
       "      <th>Invoice ID</th>\n",
       "      <th>Branch</th>\n",
       "      <th>City</th>\n",
       "      <th>Customer type</th>\n",
       "      <th>Gender</th>\n",
       "      <th>Product line</th>\n",
       "      <th>Unit price</th>\n",
       "      <th>Quantity</th>\n",
       "      <th>Date</th>\n",
       "      <th>Time</th>\n",
       "      <th>Payment</th>\n",
       "      <th>Rating</th>\n",
       "    </tr>\n",
       "  </thead>\n",
       "  <tbody>\n",
       "    <tr>\n",
       "      <th>0</th>\n",
       "      <td>750-67-8428</td>\n",
       "      <td>A</td>\n",
       "      <td>Yangon</td>\n",
       "      <td>Member</td>\n",
       "      <td>Female</td>\n",
       "      <td>Health and beauty</td>\n",
       "      <td>74.69</td>\n",
       "      <td>7</td>\n",
       "      <td>1/5/2019</td>\n",
       "      <td>13:08:00</td>\n",
       "      <td>Ewallet</td>\n",
       "      <td>9.1</td>\n",
       "    </tr>\n",
       "    <tr>\n",
       "      <th>1</th>\n",
       "      <td>226-31-3081</td>\n",
       "      <td>A</td>\n",
       "      <td>Naypyitaw</td>\n",
       "      <td>Normal</td>\n",
       "      <td>Female</td>\n",
       "      <td>Electronic accessories</td>\n",
       "      <td>15.28</td>\n",
       "      <td>5</td>\n",
       "      <td>3/8/2019</td>\n",
       "      <td>10:29:00</td>\n",
       "      <td>Cash</td>\n",
       "      <td>9.6</td>\n",
       "    </tr>\n",
       "    <tr>\n",
       "      <th>2</th>\n",
       "      <td>631-41-3108</td>\n",
       "      <td>A</td>\n",
       "      <td>Yangon</td>\n",
       "      <td>Normal</td>\n",
       "      <td>Male</td>\n",
       "      <td>Home and lifestyle</td>\n",
       "      <td>46.33</td>\n",
       "      <td>7</td>\n",
       "      <td>3/3/2019</td>\n",
       "      <td>13:23:00</td>\n",
       "      <td>Credit card</td>\n",
       "      <td>7.4</td>\n",
       "    </tr>\n",
       "    <tr>\n",
       "      <th>3</th>\n",
       "      <td>123-19-1176</td>\n",
       "      <td>B</td>\n",
       "      <td>Yangon</td>\n",
       "      <td>Member</td>\n",
       "      <td>Male</td>\n",
       "      <td>Health and beauty</td>\n",
       "      <td>58.22</td>\n",
       "      <td>8</td>\n",
       "      <td>1/27/2019</td>\n",
       "      <td>20:33:00</td>\n",
       "      <td>Ewallet</td>\n",
       "      <td>8.4</td>\n",
       "    </tr>\n",
       "    <tr>\n",
       "      <th>4</th>\n",
       "      <td>373-73-7910</td>\n",
       "      <td>C</td>\n",
       "      <td>Yangon</td>\n",
       "      <td>Normal</td>\n",
       "      <td>Male</td>\n",
       "      <td>Sports and travel</td>\n",
       "      <td>86.31</td>\n",
       "      <td>7</td>\n",
       "      <td>2/8/2019</td>\n",
       "      <td>10:37:00</td>\n",
       "      <td>Ewallet</td>\n",
       "      <td>5.3</td>\n",
       "    </tr>\n",
       "    <tr>\n",
       "      <th>5</th>\n",
       "      <td>699-14-3026</td>\n",
       "      <td>B</td>\n",
       "      <td>Naypyitaw</td>\n",
       "      <td>Normal</td>\n",
       "      <td>Male</td>\n",
       "      <td>Electronic accessories</td>\n",
       "      <td>85.39</td>\n",
       "      <td>7</td>\n",
       "      <td>3/25/2019</td>\n",
       "      <td>18:30:00</td>\n",
       "      <td>Ewallet</td>\n",
       "      <td>4.1</td>\n",
       "    </tr>\n",
       "    <tr>\n",
       "      <th>6</th>\n",
       "      <td>355-53-5943</td>\n",
       "      <td>A</td>\n",
       "      <td>Yangon</td>\n",
       "      <td>Member</td>\n",
       "      <td>Female</td>\n",
       "      <td>Electronic accessories</td>\n",
       "      <td>68.84</td>\n",
       "      <td>6</td>\n",
       "      <td>2/25/2019</td>\n",
       "      <td>14:36:00</td>\n",
       "      <td>Ewallet</td>\n",
       "      <td>5.8</td>\n",
       "    </tr>\n",
       "    <tr>\n",
       "      <th>7</th>\n",
       "      <td>315-22-5665</td>\n",
       "      <td>C</td>\n",
       "      <td>Naypyitaw</td>\n",
       "      <td>Normal</td>\n",
       "      <td>Female</td>\n",
       "      <td>Home and lifestyle</td>\n",
       "      <td>73.56</td>\n",
       "      <td>10</td>\n",
       "      <td>2/24/2019</td>\n",
       "      <td>11:38:00</td>\n",
       "      <td>Ewallet</td>\n",
       "      <td>8.0</td>\n",
       "    </tr>\n",
       "    <tr>\n",
       "      <th>8</th>\n",
       "      <td>665-32-9167</td>\n",
       "      <td>B</td>\n",
       "      <td>Yangon</td>\n",
       "      <td>Member</td>\n",
       "      <td>Female</td>\n",
       "      <td>Health and beauty</td>\n",
       "      <td>36.26</td>\n",
       "      <td>2</td>\n",
       "      <td>1/10/2019</td>\n",
       "      <td>17:15:00</td>\n",
       "      <td>Credit card</td>\n",
       "      <td>7.2</td>\n",
       "    </tr>\n",
       "    <tr>\n",
       "      <th>9</th>\n",
       "      <td>692-92-5582</td>\n",
       "      <td>A</td>\n",
       "      <td>Mandalay</td>\n",
       "      <td>Member</td>\n",
       "      <td>Female</td>\n",
       "      <td>Food and beverages</td>\n",
       "      <td>54.84</td>\n",
       "      <td>3</td>\n",
       "      <td>2/20/2019</td>\n",
       "      <td>13:27:00</td>\n",
       "      <td>Credit card</td>\n",
       "      <td>5.9</td>\n",
       "    </tr>\n",
       "  </tbody>\n",
       "</table>\n",
       "</div>"
      ],
      "text/plain": [
       "    Invoice ID Branch       City Customer type  Gender  \\\n",
       "0  750-67-8428      A     Yangon        Member  Female   \n",
       "1  226-31-3081      A  Naypyitaw        Normal  Female   \n",
       "2  631-41-3108      A     Yangon        Normal    Male   \n",
       "3  123-19-1176      B     Yangon        Member    Male   \n",
       "4  373-73-7910      C     Yangon        Normal    Male   \n",
       "5  699-14-3026      B  Naypyitaw        Normal    Male   \n",
       "6  355-53-5943      A     Yangon        Member  Female   \n",
       "7  315-22-5665      C  Naypyitaw        Normal  Female   \n",
       "8  665-32-9167      B     Yangon        Member  Female   \n",
       "9  692-92-5582      A   Mandalay        Member  Female   \n",
       "\n",
       "             Product line  Unit price  Quantity       Date      Time  \\\n",
       "0       Health and beauty       74.69         7   1/5/2019  13:08:00   \n",
       "1  Electronic accessories       15.28         5   3/8/2019  10:29:00   \n",
       "2      Home and lifestyle       46.33         7   3/3/2019  13:23:00   \n",
       "3       Health and beauty       58.22         8  1/27/2019  20:33:00   \n",
       "4       Sports and travel       86.31         7   2/8/2019  10:37:00   \n",
       "5  Electronic accessories       85.39         7  3/25/2019  18:30:00   \n",
       "6  Electronic accessories       68.84         6  2/25/2019  14:36:00   \n",
       "7      Home and lifestyle       73.56        10  2/24/2019  11:38:00   \n",
       "8       Health and beauty       36.26         2  1/10/2019  17:15:00   \n",
       "9      Food and beverages       54.84         3  2/20/2019  13:27:00   \n",
       "\n",
       "       Payment  Rating  \n",
       "0      Ewallet     9.1  \n",
       "1         Cash     9.6  \n",
       "2  Credit card     7.4  \n",
       "3      Ewallet     8.4  \n",
       "4      Ewallet     5.3  \n",
       "5      Ewallet     4.1  \n",
       "6      Ewallet     5.8  \n",
       "7      Ewallet     8.0  \n",
       "8  Credit card     7.2  \n",
       "9  Credit card     5.9  "
      ]
     },
     "execution_count": 9,
     "metadata": {},
     "output_type": "execute_result"
    }
   ],
   "source": [
    "df.head(10)"
   ]
  },
  {
   "cell_type": "markdown",
   "id": "7c8db3d2-9118-4816-a368-daf6015b26e0",
   "metadata": {},
   "source": [
    "Data understanding"
   ]
  },
  {
   "cell_type": "code",
   "execution_count": 11,
   "id": "e1575ab2-e4da-43f8-9746-996b676927cb",
   "metadata": {},
   "outputs": [
    {
     "data": {
      "text/plain": [
       "(1000, 12)"
      ]
     },
     "execution_count": 11,
     "metadata": {},
     "output_type": "execute_result"
    }
   ],
   "source": [
    "df.shape"
   ]
  },
  {
   "cell_type": "code",
   "execution_count": 17,
   "id": "cf392759-df27-4f22-9331-febcfba731a6",
   "metadata": {},
   "outputs": [
    {
     "data": {
      "text/plain": [
       "Index(['Invoice ID', 'Branch', 'City', 'Customer type', 'Gender',\n",
       "       'Product line', 'Unit price', 'Quantity', 'Date', 'Time', 'Payment',\n",
       "       'Rating'],\n",
       "      dtype='object')"
      ]
     },
     "execution_count": 17,
     "metadata": {},
     "output_type": "execute_result"
    }
   ],
   "source": [
    "df.columns"
   ]
  },
  {
   "cell_type": "code",
   "execution_count": 19,
   "id": "4d49f282-00f8-462b-9d54-b648d5f612d7",
   "metadata": {},
   "outputs": [
    {
     "name": "stdout",
     "output_type": "stream",
     "text": [
      "<class 'pandas.core.frame.DataFrame'>\n",
      "RangeIndex: 1000 entries, 0 to 999\n",
      "Data columns (total 12 columns):\n",
      " #   Column         Non-Null Count  Dtype  \n",
      "---  ------         --------------  -----  \n",
      " 0   Invoice ID     1000 non-null   object \n",
      " 1   Branch         1000 non-null   object \n",
      " 2   City           1000 non-null   object \n",
      " 3   Customer type  1000 non-null   object \n",
      " 4   Gender         1000 non-null   object \n",
      " 5   Product line   1000 non-null   object \n",
      " 6   Unit price     1000 non-null   float64\n",
      " 7   Quantity       1000 non-null   int64  \n",
      " 8   Date           1000 non-null   object \n",
      " 9   Time           1000 non-null   object \n",
      " 10  Payment        1000 non-null   object \n",
      " 11  Rating         1000 non-null   float64\n",
      "dtypes: float64(2), int64(1), object(9)\n",
      "memory usage: 93.9+ KB\n"
     ]
    }
   ],
   "source": [
    "df.info()"
   ]
  },
  {
   "cell_type": "code",
   "execution_count": 23,
   "id": "a1cfceea-cc0f-49da-b872-73d50f14bc02",
   "metadata": {},
   "outputs": [
    {
     "data": {
      "text/html": [
       "<div>\n",
       "<style scoped>\n",
       "    .dataframe tbody tr th:only-of-type {\n",
       "        vertical-align: middle;\n",
       "    }\n",
       "\n",
       "    .dataframe tbody tr th {\n",
       "        vertical-align: top;\n",
       "    }\n",
       "\n",
       "    .dataframe thead th {\n",
       "        text-align: right;\n",
       "    }\n",
       "</style>\n",
       "<table border=\"1\" class=\"dataframe\">\n",
       "  <thead>\n",
       "    <tr style=\"text-align: right;\">\n",
       "      <th></th>\n",
       "      <th>Unit price</th>\n",
       "      <th>Quantity</th>\n",
       "      <th>Rating</th>\n",
       "    </tr>\n",
       "  </thead>\n",
       "  <tbody>\n",
       "    <tr>\n",
       "      <th>count</th>\n",
       "      <td>1000.000000</td>\n",
       "      <td>1000.000000</td>\n",
       "      <td>1000.00000</td>\n",
       "    </tr>\n",
       "    <tr>\n",
       "      <th>mean</th>\n",
       "      <td>55.672130</td>\n",
       "      <td>5.510000</td>\n",
       "      <td>6.97270</td>\n",
       "    </tr>\n",
       "    <tr>\n",
       "      <th>std</th>\n",
       "      <td>26.494628</td>\n",
       "      <td>2.923431</td>\n",
       "      <td>1.71858</td>\n",
       "    </tr>\n",
       "    <tr>\n",
       "      <th>min</th>\n",
       "      <td>10.080000</td>\n",
       "      <td>1.000000</td>\n",
       "      <td>4.00000</td>\n",
       "    </tr>\n",
       "    <tr>\n",
       "      <th>25%</th>\n",
       "      <td>32.875000</td>\n",
       "      <td>3.000000</td>\n",
       "      <td>5.50000</td>\n",
       "    </tr>\n",
       "    <tr>\n",
       "      <th>50%</th>\n",
       "      <td>55.230000</td>\n",
       "      <td>5.000000</td>\n",
       "      <td>7.00000</td>\n",
       "    </tr>\n",
       "    <tr>\n",
       "      <th>75%</th>\n",
       "      <td>77.935000</td>\n",
       "      <td>8.000000</td>\n",
       "      <td>8.50000</td>\n",
       "    </tr>\n",
       "    <tr>\n",
       "      <th>max</th>\n",
       "      <td>99.960000</td>\n",
       "      <td>10.000000</td>\n",
       "      <td>10.00000</td>\n",
       "    </tr>\n",
       "  </tbody>\n",
       "</table>\n",
       "</div>"
      ],
      "text/plain": [
       "        Unit price     Quantity      Rating\n",
       "count  1000.000000  1000.000000  1000.00000\n",
       "mean     55.672130     5.510000     6.97270\n",
       "std      26.494628     2.923431     1.71858\n",
       "min      10.080000     1.000000     4.00000\n",
       "25%      32.875000     3.000000     5.50000\n",
       "50%      55.230000     5.000000     7.00000\n",
       "75%      77.935000     8.000000     8.50000\n",
       "max      99.960000    10.000000    10.00000"
      ]
     },
     "execution_count": 23,
     "metadata": {},
     "output_type": "execute_result"
    }
   ],
   "source": [
    " df.describe()"
   ]
  },
  {
   "cell_type": "markdown",
   "id": "bf843b5c-bf30-4777-8117-3df53c577ca7",
   "metadata": {},
   "source": [
    "Data preparation"
   ]
  },
  {
   "cell_type": "code",
   "execution_count": 29,
   "id": "930e0387-d884-4ad0-833d-093111c87c4c",
   "metadata": {},
   "outputs": [
    {
     "data": {
      "text/plain": [
       "Invoice ID       0\n",
       "Branch           0\n",
       "City             0\n",
       "Customer type    0\n",
       "Gender           0\n",
       "Product line     0\n",
       "Unit price       0\n",
       "Quantity         0\n",
       "Date             0\n",
       "Time             0\n",
       "Payment          0\n",
       "Rating           0\n",
       "dtype: int64"
      ]
     },
     "execution_count": 29,
     "metadata": {},
     "output_type": "execute_result"
    }
   ],
   "source": [
    "df.isna().sum()"
   ]
  },
  {
   "cell_type": "code",
   "execution_count": 31,
   "id": "6e10bc1e-aa9b-4b9d-811e-c6277c49308b",
   "metadata": {},
   "outputs": [
    {
     "data": {
      "text/plain": [
       "0"
      ]
     },
     "execution_count": 31,
     "metadata": {},
     "output_type": "execute_result"
    }
   ],
   "source": [
    "df.duplicated().sum()"
   ]
  },
  {
   "cell_type": "code",
   "execution_count": 33,
   "id": "a7f837d5-9e10-4995-b924-2471401984db",
   "metadata": {},
   "outputs": [],
   "source": [
    "df.Date = pd.to_datetime(df.Date)"
   ]
  },
  {
   "cell_type": "code",
   "execution_count": 37,
   "id": "ea1643a2-dbf2-4782-9010-3d34bc2c7a8f",
   "metadata": {},
   "outputs": [
    {
     "name": "stdout",
     "output_type": "stream",
     "text": [
      "<class 'pandas.core.frame.DataFrame'>\n",
      "RangeIndex: 1000 entries, 0 to 999\n",
      "Data columns (total 12 columns):\n",
      " #   Column         Non-Null Count  Dtype         \n",
      "---  ------         --------------  -----         \n",
      " 0   Invoice ID     1000 non-null   object        \n",
      " 1   Branch         1000 non-null   object        \n",
      " 2   City           1000 non-null   object        \n",
      " 3   Customer type  1000 non-null   object        \n",
      " 4   Gender         1000 non-null   object        \n",
      " 5   Product line   1000 non-null   object        \n",
      " 6   Unit price     1000 non-null   float64       \n",
      " 7   Quantity       1000 non-null   int64         \n",
      " 8   Date           1000 non-null   datetime64[ns]\n",
      " 9   Time           1000 non-null   object        \n",
      " 10  Payment        1000 non-null   object        \n",
      " 11  Rating         1000 non-null   float64       \n",
      "dtypes: datetime64[ns](1), float64(2), int64(1), object(8)\n",
      "memory usage: 93.9+ KB\n"
     ]
    }
   ],
   "source": [
    "df.info()"
   ]
  },
  {
   "cell_type": "markdown",
   "id": "b8d83f0c-47b6-465c-a349-0e851b33dc80",
   "metadata": {},
   "source": [
    "Analysis"
   ]
  },
  {
   "cell_type": "code",
   "execution_count": 58,
   "id": "703cdf24-e9a0-45bd-b875-4d16669e4d32",
   "metadata": {},
   "outputs": [],
   "source": [
    "df['Revenue']=df['Quantity']*df['Unit price']"
   ]
  },
  {
   "cell_type": "code",
   "execution_count": 60,
   "id": "df06b4a2-89b9-4898-8c62-256f1e832dd6",
   "metadata": {},
   "outputs": [
    {
     "data": {
      "text/html": [
       "<div>\n",
       "<style scoped>\n",
       "    .dataframe tbody tr th:only-of-type {\n",
       "        vertical-align: middle;\n",
       "    }\n",
       "\n",
       "    .dataframe tbody tr th {\n",
       "        vertical-align: top;\n",
       "    }\n",
       "\n",
       "    .dataframe thead th {\n",
       "        text-align: right;\n",
       "    }\n",
       "</style>\n",
       "<table border=\"1\" class=\"dataframe\">\n",
       "  <thead>\n",
       "    <tr style=\"text-align: right;\">\n",
       "      <th></th>\n",
       "      <th>Invoice ID</th>\n",
       "      <th>Branch</th>\n",
       "      <th>City</th>\n",
       "      <th>Customer type</th>\n",
       "      <th>Gender</th>\n",
       "      <th>Product line</th>\n",
       "      <th>Unit price</th>\n",
       "      <th>Quantity</th>\n",
       "      <th>Date</th>\n",
       "      <th>Time</th>\n",
       "      <th>Payment</th>\n",
       "      <th>Rating</th>\n",
       "      <th>Revenue</th>\n",
       "    </tr>\n",
       "  </thead>\n",
       "  <tbody>\n",
       "    <tr>\n",
       "      <th>0</th>\n",
       "      <td>750-67-8428</td>\n",
       "      <td>A</td>\n",
       "      <td>Yangon</td>\n",
       "      <td>Member</td>\n",
       "      <td>Female</td>\n",
       "      <td>Health and beauty</td>\n",
       "      <td>74.69</td>\n",
       "      <td>7</td>\n",
       "      <td>2019-01-05</td>\n",
       "      <td>13:08:00</td>\n",
       "      <td>Ewallet</td>\n",
       "      <td>9.1</td>\n",
       "      <td>522.83</td>\n",
       "    </tr>\n",
       "    <tr>\n",
       "      <th>1</th>\n",
       "      <td>226-31-3081</td>\n",
       "      <td>A</td>\n",
       "      <td>Naypyitaw</td>\n",
       "      <td>Normal</td>\n",
       "      <td>Female</td>\n",
       "      <td>Electronic accessories</td>\n",
       "      <td>15.28</td>\n",
       "      <td>5</td>\n",
       "      <td>2019-03-08</td>\n",
       "      <td>10:29:00</td>\n",
       "      <td>Cash</td>\n",
       "      <td>9.6</td>\n",
       "      <td>76.40</td>\n",
       "    </tr>\n",
       "    <tr>\n",
       "      <th>2</th>\n",
       "      <td>631-41-3108</td>\n",
       "      <td>A</td>\n",
       "      <td>Yangon</td>\n",
       "      <td>Normal</td>\n",
       "      <td>Male</td>\n",
       "      <td>Home and lifestyle</td>\n",
       "      <td>46.33</td>\n",
       "      <td>7</td>\n",
       "      <td>2019-03-03</td>\n",
       "      <td>13:23:00</td>\n",
       "      <td>Credit card</td>\n",
       "      <td>7.4</td>\n",
       "      <td>324.31</td>\n",
       "    </tr>\n",
       "    <tr>\n",
       "      <th>3</th>\n",
       "      <td>123-19-1176</td>\n",
       "      <td>B</td>\n",
       "      <td>Yangon</td>\n",
       "      <td>Member</td>\n",
       "      <td>Male</td>\n",
       "      <td>Health and beauty</td>\n",
       "      <td>58.22</td>\n",
       "      <td>8</td>\n",
       "      <td>2019-01-27</td>\n",
       "      <td>20:33:00</td>\n",
       "      <td>Ewallet</td>\n",
       "      <td>8.4</td>\n",
       "      <td>465.76</td>\n",
       "    </tr>\n",
       "    <tr>\n",
       "      <th>4</th>\n",
       "      <td>373-73-7910</td>\n",
       "      <td>C</td>\n",
       "      <td>Yangon</td>\n",
       "      <td>Normal</td>\n",
       "      <td>Male</td>\n",
       "      <td>Sports and travel</td>\n",
       "      <td>86.31</td>\n",
       "      <td>7</td>\n",
       "      <td>2019-02-08</td>\n",
       "      <td>10:37:00</td>\n",
       "      <td>Ewallet</td>\n",
       "      <td>5.3</td>\n",
       "      <td>604.17</td>\n",
       "    </tr>\n",
       "  </tbody>\n",
       "</table>\n",
       "</div>"
      ],
      "text/plain": [
       "    Invoice ID Branch       City Customer type  Gender  \\\n",
       "0  750-67-8428      A     Yangon        Member  Female   \n",
       "1  226-31-3081      A  Naypyitaw        Normal  Female   \n",
       "2  631-41-3108      A     Yangon        Normal    Male   \n",
       "3  123-19-1176      B     Yangon        Member    Male   \n",
       "4  373-73-7910      C     Yangon        Normal    Male   \n",
       "\n",
       "             Product line  Unit price  Quantity       Date      Time  \\\n",
       "0       Health and beauty       74.69         7 2019-01-05  13:08:00   \n",
       "1  Electronic accessories       15.28         5 2019-03-08  10:29:00   \n",
       "2      Home and lifestyle       46.33         7 2019-03-03  13:23:00   \n",
       "3       Health and beauty       58.22         8 2019-01-27  20:33:00   \n",
       "4       Sports and travel       86.31         7 2019-02-08  10:37:00   \n",
       "\n",
       "       Payment  Rating  Revenue  \n",
       "0      Ewallet     9.1   522.83  \n",
       "1         Cash     9.6    76.40  \n",
       "2  Credit card     7.4   324.31  \n",
       "3      Ewallet     8.4   465.76  \n",
       "4      Ewallet     5.3   604.17  "
      ]
     },
     "execution_count": 60,
     "metadata": {},
     "output_type": "execute_result"
    }
   ],
   "source": [
    "df.head(5)"
   ]
  },
  {
   "cell_type": "markdown",
   "id": "29c5a5d0-f9de-4b84-af0e-29c72e75e0fd",
   "metadata": {},
   "source": [
    "Exploratory Data Analysis"
   ]
  },
  {
   "cell_type": "code",
   "execution_count": 75,
   "id": "979995a8-2098-4ae1-81c8-117e8b1e3a4f",
   "metadata": {},
   "outputs": [],
   "source": [
    "df=df.sort_values(by='Revenue',ascending=False).head(10)"
   ]
  },
  {
   "cell_type": "code",
   "execution_count": 85,
   "id": "ff6b843d-df20-411d-9504-d5d7b37eb58d",
   "metadata": {},
   "outputs": [
    {
     "data": {
      "text/plain": [
       "<Figure size 700x300 with 0 Axes>"
      ]
     },
     "execution_count": 85,
     "metadata": {},
     "output_type": "execute_result"
    },
    {
     "data": {
      "text/plain": [
       "<Figure size 700x300 with 0 Axes>"
      ]
     },
     "metadata": {},
     "output_type": "display_data"
    }
   ],
   "source": [
    "plt.figure(figsize=(7,3))\n"
   ]
  },
  {
   "cell_type": "code",
   "execution_count": 87,
   "id": "3018b408-fcf5-4b3e-b744-7cd9d8022284",
   "metadata": {},
   "outputs": [
    {
     "data": {
      "text/plain": [
       "<BarContainer object of 10 artists>"
      ]
     },
     "execution_count": 87,
     "metadata": {},
     "output_type": "execute_result"
    },
    {
     "data": {
      "image/png": "[encoded data removed]",
      "text/plain": [
       "<Figure size 640x480 with 1 Axes>"
      ]
     },
     "metadata": {},
     "output_type": "display_data"
    }
   ],
   "source": [
    "plt.bar(df['City'],df['Revenue'],color='blue')"
   ]
  },
  {
   "cell_type": "markdown",
   "id": "8ee873c9-74c2-48ce-87cc-132c96987adc",
   "metadata": {},
   "source": [
    "Naypyitaw have highest revennue than the other two"
   ]
  },
  {
   "cell_type": "code",
   "execution_count": 164,
   "id": "4512992d-314a-4266-9204-d59c39cfdc6d",
   "metadata": {},
   "outputs": [
    {
     "name": "stderr",
     "output_type": "stream",
     "text": [
      "C:\\Users\\cheth\\AppData\\Local\\Temp\\ipykernel_21744\\3668754127.py:2: FutureWarning: \n",
      "\n",
      "Passing `palette` without assigning `hue` is deprecated and will be removed in v0.14.0. Assign the `x` variable to `hue` and set `legend=False` for the same effect.\n",
      "\n",
      "  sns.barplot(data=city_data,x='Branch',y='Revenue',palette='viridis')\n"
     ]
    },
    {
     "data": {
      "text/plain": [
       "<Axes: xlabel='Branch', ylabel='Revenue'>"
      ]
     },
     "execution_count": 164,
     "metadata": {},
     "output_type": "execute_result"
    },
    {
     "data": {
      "image/png": "[encoded data removed]",
      "text/plain": [
       "<Figure size 640x480 with 1 Axes>"
      ]
     },
     "metadata": {},
     "output_type": "display_data"
    }
   ],
   "source": [
    "city_info= df[df['City']== 'Naypyitaw']\n",
    "sns.barplot(data=city_info,x='Branch',y='Revenue',palette='viridis')"
   ]
  },
  {
   "cell_type": "markdown",
   "id": "54384925-ce50-40ce-baef-7a75122177b7",
   "metadata": {},
   "source": [
    "Branch B in Naypyitaw gives highest revenue"
   ]
  },
  {
   "cell_type": "code",
   "execution_count": 110,
   "id": "b0b0da24-22c5-4fbb-931f-bf21b76829ea",
   "metadata": {},
   "outputs": [],
   "source": [
    "total_revenue_per_city = df.groupby('City')['Revenue'].sum().reset_index().sort_values(by='Revenue', ascending=True)"
   ]
  },
  {
   "cell_type": "code",
   "execution_count": 112,
   "id": "72456a95-a2a8-4665-b5ee-3adb350c906a",
   "metadata": {},
   "outputs": [
    {
     "data": {
      "text/html": [
       "<div>\n",
       "<style scoped>\n",
       "    .dataframe tbody tr th:only-of-type {\n",
       "        vertical-align: middle;\n",
       "    }\n",
       "\n",
       "    .dataframe tbody tr th {\n",
       "        vertical-align: top;\n",
       "    }\n",
       "\n",
       "    .dataframe thead th {\n",
       "        text-align: right;\n",
       "    }\n",
       "</style>\n",
       "<table border=\"1\" class=\"dataframe\">\n",
       "  <thead>\n",
       "    <tr style=\"text-align: right;\">\n",
       "      <th></th>\n",
       "      <th>City</th>\n",
       "      <th>Revenue</th>\n",
       "    </tr>\n",
       "  </thead>\n",
       "  <tbody>\n",
       "    <tr>\n",
       "      <th>1</th>\n",
       "      <td>Naypyitaw</td>\n",
       "      <td>5835.5</td>\n",
       "    </tr>\n",
       "    <tr>\n",
       "      <th>0</th>\n",
       "      <td>Mandalay</td>\n",
       "      <td>1947.5</td>\n",
       "    </tr>\n",
       "    <tr>\n",
       "      <th>2</th>\n",
       "      <td>Yangon</td>\n",
       "      <td>1896.3</td>\n",
       "    </tr>\n",
       "  </tbody>\n",
       "</table>\n",
       "</div>"
      ],
      "text/plain": [
       "        City  Revenue\n",
       "1  Naypyitaw   5835.5\n",
       "0   Mandalay   1947.5\n",
       "2     Yangon   1896.3"
      ]
     },
     "execution_count": 112,
     "metadata": {},
     "output_type": "execute_result"
    }
   ],
   "source": [
    "total_revenue_per_city"
   ]
  },
  {
   "cell_type": "markdown",
   "id": "8e01873b-bd2b-4609-939f-21cc2b62ff12",
   "metadata": {},
   "source": [
    "Total revenue"
   ]
  },
  {
   "cell_type": "code",
   "execution_count": 118,
   "id": "86535b31-748f-49e2-b27b-eac57322df4c",
   "metadata": {},
   "outputs": [],
   "source": [
    "branch_revenue = df.groupby(['City', 'Branch'])['Revenue'].sum().reset_index().sort_values(by='Revenue', ascending=False)\n"
   ]
  },
  {
   "cell_type": "code",
   "execution_count": 120,
   "id": "a423164a-2231-45aa-93a9-52e8cee9b87a",
   "metadata": {},
   "outputs": [
    {
     "data": {
      "text/html": [
       "<div>\n",
       "<style scoped>\n",
       "    .dataframe tbody tr th:only-of-type {\n",
       "        vertical-align: middle;\n",
       "    }\n",
       "\n",
       "    .dataframe tbody tr th {\n",
       "        vertical-align: top;\n",
       "    }\n",
       "\n",
       "    .dataframe thead th {\n",
       "        text-align: right;\n",
       "    }\n",
       "</style>\n",
       "<table border=\"1\" class=\"dataframe\">\n",
       "  <thead>\n",
       "    <tr style=\"text-align: right;\">\n",
       "      <th></th>\n",
       "      <th>City</th>\n",
       "      <th>Branch</th>\n",
       "      <th>Revenue</th>\n",
       "    </tr>\n",
       "  </thead>\n",
       "  <tbody>\n",
       "    <tr>\n",
       "      <th>2</th>\n",
       "      <td>Naypyitaw</td>\n",
       "      <td>B</td>\n",
       "      <td>3888.4</td>\n",
       "    </tr>\n",
       "    <tr>\n",
       "      <th>0</th>\n",
       "      <td>Mandalay</td>\n",
       "      <td>A</td>\n",
       "      <td>1947.5</td>\n",
       "    </tr>\n",
       "    <tr>\n",
       "      <th>5</th>\n",
       "      <td>Yangon</td>\n",
       "      <td>C</td>\n",
       "      <td>989.8</td>\n",
       "    </tr>\n",
       "    <tr>\n",
       "      <th>1</th>\n",
       "      <td>Naypyitaw</td>\n",
       "      <td>A</td>\n",
       "      <td>975.0</td>\n",
       "    </tr>\n",
       "    <tr>\n",
       "      <th>3</th>\n",
       "      <td>Naypyitaw</td>\n",
       "      <td>C</td>\n",
       "      <td>972.1</td>\n",
       "    </tr>\n",
       "    <tr>\n",
       "      <th>4</th>\n",
       "      <td>Yangon</td>\n",
       "      <td>A</td>\n",
       "      <td>906.5</td>\n",
       "    </tr>\n",
       "  </tbody>\n",
       "</table>\n",
       "</div>"
      ],
      "text/plain": [
       "        City Branch  Revenue\n",
       "2  Naypyitaw      B   3888.4\n",
       "0   Mandalay      A   1947.5\n",
       "5     Yangon      C    989.8\n",
       "1  Naypyitaw      A    975.0\n",
       "3  Naypyitaw      C    972.1\n",
       "4     Yangon      A    906.5"
      ]
     },
     "execution_count": 120,
     "metadata": {},
     "output_type": "execute_result"
    }
   ],
   "source": [
    "branch_revenue \n"
   ]
  },
  {
   "cell_type": "markdown",
   "id": "0fd44046-0eba-482a-a5d4-3f66595c6071",
   "metadata": {},
   "source": [
    "Total revenue branch-wise"
   ]
  },
  {
   "cell_type": "code",
   "execution_count": 143,
   "id": "6f15df96-c20a-48ac-aec9-2e19a168e95e",
   "metadata": {},
   "outputs": [],
   "source": [
    "revenue_over_time = df.groupby(['City', 'Date'])['Revenue'].sum().reset_index()"
   ]
  },
  {
   "cell_type": "code",
   "execution_count": 139,
   "id": "e81de6ae-92db-4bdb-851d-dc2cfc7da829",
   "metadata": {},
   "outputs": [
    {
     "data": {
      "text/plain": [
       "[<matplotlib.lines.Line2D at 0x1ca8da2af00>]"
      ]
     },
     "execution_count": 139,
     "metadata": {},
     "output_type": "execute_result"
    },
    {
     "data": {
      "image/png": "[encoded data removed]",
      "text/plain": [
       "<Figure size 1500x600 with 1 Axes>"
      ]
     },
     "metadata": {},
     "output_type": "display_data"
    }
   ],
   "source": [
    "city_name = 'Naypyitaw'\n",
    "city_data = df[df['City'] == city_name]\n",
    "\n",
    "# Plot the revenue trend over time for the specific city\n",
    "plt.figure(figsize=(15, 6))\n",
    "plt.plot(city_data['Revenue'],city_data['Date'], marker='o', color='skyblue', label=city_name)\n"
   ]
  },
  {
   "cell_type": "markdown",
   "id": "b9b6a974-1d7c-4400-b5d7-1187d5f3f141",
   "metadata": {},
   "source": [
    "Naypyitaw have a notable fluctuation in revenue over time"
   ]
  },
  {
   "cell_type": "code",
   "execution_count": 145,
   "id": "95b14d61-94d8-4db6-a91a-7309894eb2c7",
   "metadata": {},
   "outputs": [
    {
     "data": {
      "text/plain": [
       "[<matplotlib.lines.Line2D at 0x1ca8da422a0>]"
      ]
     },
     "execution_count": 145,
     "metadata": {},
     "output_type": "execute_result"
    },
    {
     "data": {
      "image/png": "[encoded data removed]",
      "text/plain": [
       "<Figure size 1500x600 with 1 Axes>"
      ]
     },
     "metadata": {},
     "output_type": "display_data"
    }
   ],
   "source": [
    "city_name = 'Mandalay'\n",
    "city_data = df[df['City'] == city_name]\n",
    "\n",
    "# Plot the revenue trend over time for the specific city\n",
    "plt.figure(figsize=(15, 6))\n",
    "plt.plot(city_data['Revenue'],city_data['Date'], marker='o', color='skyblue', label=city_name)\n"
   ]
  },
  {
   "cell_type": "markdown",
   "id": "2bc2d9ea-3e65-4493-b435-2e1dad4d6040",
   "metadata": {},
   "source": [
    "Mandalay have consistency in revenue over a period of time"
   ]
  },
  {
   "cell_type": "code",
   "execution_count": 153,
   "id": "6ef0b0fc-232f-4ec5-83be-2edb6879dff5",
   "metadata": {},
   "outputs": [
    {
     "data": {
      "text/plain": [
       "[<matplotlib.lines.Line2D at 0x1ca8e0c6690>]"
      ]
     },
     "execution_count": 153,
     "metadata": {},
     "output_type": "execute_result"
    },
    {
     "data": {
      "image/png": "[encoded data removed]",
      "text/plain": [
       "<Figure size 1000x600 with 1 Axes>"
      ]
     },
     "metadata": {},
     "output_type": "display_data"
    }
   ],
   "source": [
    "city_name = 'Yangon'\n",
    "city_data = df[df['City'] == city_name]\n",
    "\n",
    "# Plot the revenue trend over time for the specific city\n",
    "plt.figure(figsize=(10, 6))\n",
    "plt.plot(city_data['Revenue'],city_data['Date'], marker='o', color='skyblue', label=city_name)\n"
   ]
  },
  {
   "cell_type": "markdown",
   "id": "7990fd89-9747-4208-9c1d-0242fa48615c",
   "metadata": {},
   "source": [
    "Yangon shows a notable denial in revenue over the time"
   ]
  },
  {
   "cell_type": "code",
   "execution_count": 151,
   "id": "0e895fff-a7e0-416d-81ec-0cb84b151322",
   "metadata": {},
   "outputs": [
    {
     "data": {
      "image/png": "[encoded data removed]",
      "text/plain": [
       "<Figure size 1000x600 with 1 Axes>"
      ]
     },
     "metadata": {},
     "output_type": "display_data"
    }
   ],
   "source": [
    "revenue_over_time = df.groupby(['City', 'Date'])['Revenue'].sum().reset_index()\n",
    "\n",
    "# Plot revenue over time for each city\n",
    "plt.figure(figsize=(10, 6))\n",
    "\n",
    "# Loop through each city and plot its revenue trend over time\n",
    "for city in revenue_over_time['City'].unique():\n",
    "    city_data = revenue_over_time[revenue_over_time['City'] == city]\n",
    "    plt.plot(city_data['Date'], city_data['Revenue'], marker='o', label=city)"
   ]
  },
  {
   "cell_type": "markdown",
   "id": "644e011b-d4cc-41dc-93d3-f2a0dca32db7",
   "metadata": {},
   "source": [
    "City wise revenue over a time priod"
   ]
  },
  {
   "cell_type": "code",
   "execution_count": null,
   "id": "e514ca81-79fb-4596-8f43-706bb84c04d4",
   "metadata": {},
   "outputs": [],
   "source": []
  }
 ],
 "metadata": {
  "kernelspec": {
   "display_name": "Python 3 (ipykernel)",
   "language": "python",
   "name": "python3"
  },
  "language_info": {
   "codemirror_mode": {
    "name": "ipython",
    "version": 3
   },
   "file_extension": ".py",
   "mimetype": "text/x-python",
   "name": "python",
   "nbconvert_exporter": "python",
   "pygments_lexer": "ipython3",
   "version": "3.12.7"
  }
 },
 "nbformat": 4,
 "nbformat_minor": 5
}
